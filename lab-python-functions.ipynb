{
 "cells": [
  {
   "cell_type": "markdown",
   "id": "25d7736c-ba17-4aff-b6bb-66eba20fbf4e",
   "metadata": {},
   "source": [
    "# Lab | Functions"
   ]
  },
  {
   "cell_type": "markdown",
   "id": "0c581062-8967-4d93-b06e-62833222f930",
   "metadata": {
    "tags": []
   },
   "source": [
    "## Exercise: Managing Customer Orders with Functions\n",
    "\n",
    "In the previous exercise, you improved the code for managing customer orders by using loops and flow control. Now, let's take it a step further and refactor the code by introducing functions.\n",
    "\n",
    "Follow the steps below to complete the exercise:\n",
    "\n",
    "1. Define a function named `initialize_inventory` that takes `products` as a parameter. Inside the function, implement the code for initializing the inventory dictionary using a loop and user input.\n",
    "\n",
    "2. Define a function named `get_customer_orders` that takes no parameters. Inside the function, implement the code for prompting the user to enter the product names using a loop. The function should return the `customer_orders` set.\n",
    "\n",
    "3. Define a function named `update_inventory` that takes `customer_orders` and `inventory` as parameters. Inside the function, implement the code for updating the inventory dictionary based on the customer orders.\n",
    "\n",
    "4. Define a function named `calculate_order_statistics` that takes `customer_orders` and `products` as parameters. Inside the function, implement the code for calculating the order statistics (total products ordered, and percentage of unique products ordered). The function should return these values.\n",
    "\n",
    "5. Define a function named `print_order_statistics` that takes `order_statistics` as a parameter. Inside the function, implement the code for printing the order statistics.\n",
    "\n",
    "6. Define a function named `print_updated_inventory` that takes `inventory` as a parameter. Inside the function, implement the code for printing the updated inventory.\n",
    "\n",
    "7. Call the functions in the appropriate sequence to execute the program and manage customer orders.\n",
    "\n",
    "Hints for functions:\n",
    "\n",
    "- Consider the input parameters required for each function and their return values.\n",
    "- Utilize function parameters and return values to transfer data between functions.\n",
    "- Test your functions individually to ensure they work correctly.\n",
    "\n",
    "\n"
   ]
  },
  {
   "cell_type": "code",
   "execution_count": 26,
   "id": "47259582",
   "metadata": {},
   "outputs": [],
   "source": [
    "products = {\n",
    "        \"t-shirt\",\n",
    "        \"mug\",\n",
    "        \"hat\",\n",
    "        \"book\",\n",
    "        \"keychain\"\n",
    "    }"
   ]
  },
  {
   "cell_type": "code",
   "execution_count": 27,
   "id": "fca7ba9f",
   "metadata": {},
   "outputs": [],
   "source": [
    "def initialize_inventory(products):\n",
    "    inventory = {}\n",
    "    for i in products:\n",
    "        parser = input(f\"Quantity of {i}?\")\n",
    "        while not parser.isdigit():\n",
    "            parser = input(\"Please insert a digit\")\n",
    "        inventory[i] = int(parser)\n",
    "    return inventory\n",
    "\n",
    "inventory = initialize_inventory(products)"
   ]
  },
  {
   "cell_type": "code",
   "execution_count": 28,
   "id": "d13a3781",
   "metadata": {},
   "outputs": [],
   "source": [
    "def get_consumer_orders():\n",
    "    costumer_orders = set()\n",
    "    parser = input(\"What product you want to order?\")\n",
    "    while(1):\n",
    "        if parser in products:\n",
    "            costumer_orders.add(parser)\n",
    "            parser = input(\"Do you want more?, type 'NO' to exit\")\n",
    "        elif parser == \"NO\":\n",
    "            break\n",
    "        else:\n",
    "            parser = input(\"We dont have that product\")\n",
    "    return costumer_orders\n",
    "\n",
    "costumer_orders = get_consumer_orders()"
   ]
  },
  {
   "cell_type": "code",
   "execution_count": 29,
   "id": "db8805c8",
   "metadata": {},
   "outputs": [],
   "source": [
    "def update_inventory(costumer_orders, inventory):\n",
    "    for order in costumer_orders:\n",
    "        if order in inventory:\n",
    "            inventory[order] -= 1\n",
    "    return inventory\n",
    "\n",
    "inventory = update_inventory(costumer_orders, inventory)"
   ]
  },
  {
   "cell_type": "code",
   "execution_count": 30,
   "id": "c463167e",
   "metadata": {},
   "outputs": [],
   "source": [
    "def calculate_order_statistics(products, costumer_orders):\n",
    "    total_product_ordered = len(costumer_orders)\n",
    "    percentage =  len(costumer_orders) / len(products) * 100\n",
    "    return total_product_ordered, percentage\n",
    "\n",
    "order_stadistics = calculate_order_statistics(inventory, costumer_orders)"
   ]
  },
  {
   "cell_type": "code",
   "execution_count": 31,
   "id": "fba51f10",
   "metadata": {},
   "outputs": [
    {
     "name": "stdout",
     "output_type": "stream",
     "text": [
      "Total products ordered: 1\n",
      "Percentage: 20.0%\n"
     ]
    }
   ],
   "source": [
    "def print_order_statistics(order_stadistics):\n",
    "    print(f\"Total products ordered: {order_stadistics[0]}\")\n",
    "    print(f\"Percentage: {order_stadistics[1]}%\")\n",
    "\n",
    "print_order_statistics(order_stadistics)"
   ]
  },
  {
   "cell_type": "code",
   "execution_count": 32,
   "id": "46203829",
   "metadata": {},
   "outputs": [
    {
     "name": "stdout",
     "output_type": "stream",
     "text": [
      "Product: hat -> we have 4\n",
      "Product: mug -> we have 4\n",
      "Product: keychain -> we have 4\n",
      "Product: t-shirt -> we have 4\n",
      "Product: book -> we have 3\n"
     ]
    }
   ],
   "source": [
    "def print_updated_inventory(inventory):\n",
    "    for i in inventory:\n",
    "        print(f\"Product: {i} -> we have {inventory[i]}\")\n",
    "\n",
    "print_updated_inventory(inventory)"
   ]
  }
 ],
 "metadata": {
  "kernelspec": {
   "display_name": "base",
   "language": "python",
   "name": "python3"
  },
  "language_info": {
   "codemirror_mode": {
    "name": "ipython",
    "version": 3
   },
   "file_extension": ".py",
   "mimetype": "text/x-python",
   "name": "python",
   "nbconvert_exporter": "python",
   "pygments_lexer": "ipython3",
   "version": "3.12.7"
  }
 },
 "nbformat": 4,
 "nbformat_minor": 5
}
